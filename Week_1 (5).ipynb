{
 "cells": [
  {
   "cell_type": "markdown",
   "metadata": {},
   "source": [
    "###### Contents\n",
    "\n",
    "\n",
    "0. <a href=\"#0.-Introduction\">Introduction</a>\n",
    "1. <a href=\"#1.-Problem\">Problem</a>\n",
    "2. <a href=\"#2.-Data\">Data</a>\n",
    "3. <a href=\"#3.-Methodology\">Methodology</a>\n",
    "4. <a href=\"#4.-Analysis\">Analysis</a>\n",
    "5. <a href=\"#5.-Discussion\">Discussion</a>\n",
    "6. <a href=\"#6.-Conclusion\">Conclusion</a>\n"
   ]
  },
  {
   "cell_type": "markdown",
   "metadata": {},
   "source": [
    "## 0. Introduction"
   ]
  },
  {
   "cell_type": "markdown",
   "metadata": {},
   "source": [
    "<font size=\"4\"> Setting up a business is about the same as in any country. You must either be a resident or an EU citizen.  The French government has will ask for qualifications and they must be approved.  A business proposal is a must containing financials, market research, budgeting and how the business will be funded.\n",
    "<p>France is a good place to open a business it has many tax incentives and financial support.  It take approximately two weeks after all the initial work is done and a bank account is established.</p>\n",
    "    <p> </p> <p>Types of resturaunts in France are:</p> <p>Bistro - Bistros are intimate, usually family-owned restaurants that serve traditional fare and French wine. You’ll find casual menu items that also show up in brasseries, as well as tartes, braises and stews.</p> <p>Bouchon - Specific to Lyon, bouchons are independent, casual dining spots that typically serve decadently high-fat items like pts, offals and roasts.</p> <p>Boulangerie - \n",
    "A bread shop. Dedicated boulangeries usually don’t dabble in pastries or cakes.</p> <p>Brasserie - The name translates to “brewery,” so a brasserie is a French version of a pub: beer and cider are usually served in a loud, bustling space. Typical brasserie meals include steak frites or mussels (also with frites, please!).</p> <p> Cafe - In France, a caf is where you go for your coffee, and perhaps a light snack or lunch in the form of a croque monsieur or a meal-sized salad.</p> <p>Patisserie - A bakery specializing in cakes and sweets. This is where you’ll find your eclairs, macarons and petit fours.</p> <p> These are the typical French resturants....but an Italian resturant? </p>\n",
    "    \n",
    "    "
   ]
  },
  {
   "cell_type": "markdown",
   "metadata": {},
   "source": [
    "### According to a New York Times article. Italian food might be the best city for Italian food outside of Italy "
   ]
  },
  {
   "cell_type": "markdown",
   "metadata": {},
   "source": [
    "## 1. Problem"
   ]
  },
  {
   "cell_type": "markdown",
   "metadata": {},
   "source": [
    "<font size=\"4\"> The client wants to open a Italian Resturaunt in Paris. Some of the problems we will looks at - Who are the competitors, and what neighborhood will be the more challenging in getting prospective clients making sure these is room for another Italian Restuarant in order to attract customers.</font>"
   ]
  },
  {
   "cell_type": "markdown",
   "metadata": {},
   "source": [
    "## 2. Data "
   ]
  },
  {
   "cell_type": "markdown",
   "metadata": {},
   "source": [
    "<p><font size=\"4\"> There are 80 neighborhoods contained within 20 boroughs(arrondissements).  I will gather data that for each boroough and neighbourhood, along with italian restuarants that reside withing each of the neighborhood. Some of our data will come from the FourSquare API to explore the neighborhoods and various websites for data about resturaunts in Paris France  The data will tell us where we can be most successful in startarting aItalian resturant.</font></p>"
   ]
  },
  {
   "cell_type": "markdown",
   "metadata": {},
   "source": [
    "###### Installation of some modules used in the calculations"
   ]
  },
  {
   "cell_type": "code",
   "execution_count": 3,
   "metadata": {},
   "outputs": [
    {
     "name": "stdout",
     "output_type": "stream",
     "text": [
      "Requirement already satisfied: geopy in /Applications/anaconda3/lib/python3.8/site-packages (2.2.0)\n",
      "Requirement already satisfied: geographiclib<2,>=1.49 in /Applications/anaconda3/lib/python3.8/site-packages (from geopy) (1.52)\n",
      "Note: you may need to restart the kernel to use updated packages.\n"
     ]
    }
   ],
   "source": [
    "%pip install geopy"
   ]
  },
  {
   "cell_type": "code",
   "execution_count": 4,
   "metadata": {},
   "outputs": [
    {
     "name": "stdout",
     "output_type": "stream",
     "text": [
      "Requirement already satisfied: beautifulsoup4 in /Applications/anaconda3/lib/python3.8/site-packages (4.9.3)\n",
      "Requirement already satisfied: soupsieve>1.2; python_version >= \"3.0\" in /Applications/anaconda3/lib/python3.8/site-packages (from beautifulsoup4) (2.0.1)\n",
      "Note: you may need to restart the kernel to use updated packages.\n"
     ]
    }
   ],
   "source": [
    "%pip install beautifulsoup4 "
   ]
  },
  {
   "cell_type": "code",
   "execution_count": 5,
   "metadata": {},
   "outputs": [
    {
     "name": "stdout",
     "output_type": "stream",
     "text": [
      "Requirement already satisfied: requests in /Applications/anaconda3/lib/python3.8/site-packages (2.24.0)\n",
      "Requirement already satisfied: certifi>=2017.4.17 in /Applications/anaconda3/lib/python3.8/site-packages (from requests) (2020.6.20)\n",
      "Requirement already satisfied: idna<3,>=2.5 in /Applications/anaconda3/lib/python3.8/site-packages (from requests) (2.10)\n",
      "Requirement already satisfied: chardet<4,>=3.0.2 in /Applications/anaconda3/lib/python3.8/site-packages (from requests) (3.0.4)\n",
      "Requirement already satisfied: urllib3!=1.25.0,!=1.25.1,<1.26,>=1.21.1 in /Applications/anaconda3/lib/python3.8/site-packages (from requests) (1.25.11)\n",
      "Note: you may need to restart the kernel to use updated packages.\n"
     ]
    }
   ],
   "source": [
    "%pip install requests"
   ]
  },
  {
   "cell_type": "code",
   "execution_count": 6,
   "metadata": {},
   "outputs": [
    {
     "name": "stdout",
     "output_type": "stream",
     "text": [
      "Requirement already satisfied: kmeans in /Applications/anaconda3/lib/python3.8/site-packages (1.0.2)\n",
      "Note: you may need to restart the kernel to use updated packages.\n"
     ]
    }
   ],
   "source": [
    "%pip install kmeans"
   ]
  },
  {
   "cell_type": "code",
   "execution_count": 7,
   "metadata": {},
   "outputs": [
    {
     "name": "stdout",
     "output_type": "stream",
     "text": [
      "Requirement already satisfied: folium in /Applications/anaconda3/lib/python3.8/site-packages (0.12.1)\n",
      "Requirement already satisfied: numpy in /Applications/anaconda3/lib/python3.8/site-packages (from folium) (1.19.2)\n",
      "Requirement already satisfied: requests in /Applications/anaconda3/lib/python3.8/site-packages (from folium) (2.24.0)\n",
      "Requirement already satisfied: jinja2>=2.9 in /Applications/anaconda3/lib/python3.8/site-packages (from folium) (2.11.2)\n",
      "Requirement already satisfied: branca>=0.3.0 in /Applications/anaconda3/lib/python3.8/site-packages (from folium) (0.4.2)\n",
      "Requirement already satisfied: certifi>=2017.4.17 in /Applications/anaconda3/lib/python3.8/site-packages (from requests->folium) (2020.6.20)\n",
      "Requirement already satisfied: urllib3!=1.25.0,!=1.25.1,<1.26,>=1.21.1 in /Applications/anaconda3/lib/python3.8/site-packages (from requests->folium) (1.25.11)\n",
      "Requirement already satisfied: chardet<4,>=3.0.2 in /Applications/anaconda3/lib/python3.8/site-packages (from requests->folium) (3.0.4)\n",
      "Requirement already satisfied: idna<3,>=2.5 in /Applications/anaconda3/lib/python3.8/site-packages (from requests->folium) (2.10)\n",
      "Requirement already satisfied: MarkupSafe>=0.23 in /Applications/anaconda3/lib/python3.8/site-packages (from jinja2>=2.9->folium) (1.1.1)\n",
      "Note: you may need to restart the kernel to use updated packages.\n"
     ]
    }
   ],
   "source": [
    "# Foursquare API lab\n",
    "%pip install folium"
   ]
  },
  {
   "cell_type": "code",
   "execution_count": 9,
   "metadata": {},
   "outputs": [
    {
     "name": "stdout",
     "output_type": "stream",
     "text": [
      "\n",
      "Usage:   \n",
      "  /Applications/anaconda3/bin/python -m pip install [options] <requirement specifier> [package-index-options] ...\n",
      "  /Applications/anaconda3/bin/python -m pip install [options] -r <requirements file> [package-index-options] ...\n",
      "  /Applications/anaconda3/bin/python -m pip install [options] [-e] <vcs project url> ...\n",
      "  /Applications/anaconda3/bin/python -m pip install [options] [-e] <local project path> ...\n",
      "  /Applications/anaconda3/bin/python -m pip install [options] <archive url/path> ...\n",
      "\n",
      "no such option: --yes\n",
      "Note: you may need to restart the kernel to use updated packages.\n"
     ]
    }
   ],
   "source": [
    "pip install -c conda-forge folium=0.5.0 --yes "
   ]
  },
  {
   "cell_type": "markdown",
   "metadata": {},
   "source": [
    "###### Import libraries from modules"
   ]
  },
  {
   "cell_type": "code",
   "execution_count": 10,
   "metadata": {},
   "outputs": [],
   "source": [
    "# import k-means from clustering stage\n",
    "import sklearn as sk\n",
    "from sklearn.cluster import KMeans\n",
    "\n",
    "import numpy as np \n",
    "\n",
    " # tranform JSON file into a pandas dataframe\n",
    "import pandas as pd \n",
    "from pandas.io.json import json_normalize\n",
    "\n",
    "# Matplotlib and associated plotting modules\n",
    "import matplotlib.cm as cm \n",
    "import matplotlib.colors as colors\n",
    "\n",
    "# library to handle JSON files\n",
    "import json \n",
    "\n",
    "# library to handle requests\n",
    "import requests \n",
    "\n",
    "# convert an address into latitude and longitude values\n",
    "from geopy.geocoders import Nominatim \n",
    "\n",
    "# Website Webscraping\n",
    "from bs4 import BeautifulSoup\n",
    "\n",
    "# Foursquare API lab\n",
    "import folium"
   ]
  },
  {
   "cell_type": "code",
   "execution_count": 21,
   "metadata": {},
   "outputs": [
    {
     "data": {
      "text/plain": [
       "(80, 6)"
      ]
     },
     "execution_count": 21,
     "metadata": {},
     "output_type": "execute_result"
    }
   ],
   "source": [
    "url = 'https://en.wikipedia.org/wiki/Quarters_of_Paris'\n",
    "\n",
    "table = pd.read_html(url)\n",
    "table[0].head()\n",
    "table[0].shape"
   ]
  },
  {
   "cell_type": "code",
   "execution_count": 24,
   "metadata": {},
   "outputs": [
    {
     "data": {
      "text/html": [
       "<div>\n",
       "<style scoped>\n",
       "    .dataframe tbody tr th:only-of-type {\n",
       "        vertical-align: middle;\n",
       "    }\n",
       "\n",
       "    .dataframe tbody tr th {\n",
       "        vertical-align: top;\n",
       "    }\n",
       "\n",
       "    .dataframe thead th {\n",
       "        text-align: right;\n",
       "    }\n",
       "</style>\n",
       "<table border=\"1\" class=\"dataframe\">\n",
       "  <thead>\n",
       "    <tr style=\"text-align: right;\">\n",
       "      <th></th>\n",
       "      <th>Arrondissement(Districts)</th>\n",
       "      <th>Quartiers(Quarters)</th>\n",
       "      <th>Quartiers(Quarters).1</th>\n",
       "      <th>Population in1999[3]</th>\n",
       "      <th>Area(hectares)[3]</th>\n",
       "      <th>Map</th>\n",
       "    </tr>\n",
       "  </thead>\n",
       "  <tbody>\n",
       "    <tr>\n",
       "      <th>0</th>\n",
       "      <td>1st arrondissement(Called \"du Louvre\")</td>\n",
       "      <td>1st</td>\n",
       "      <td>Saint-Germain-l'Auxerrois</td>\n",
       "      <td>1672</td>\n",
       "      <td>86.9</td>\n",
       "      <td>NaN</td>\n",
       "    </tr>\n",
       "    <tr>\n",
       "      <th>1</th>\n",
       "      <td>1st arrondissement(Called \"du Louvre\")</td>\n",
       "      <td>2nd</td>\n",
       "      <td>Les Halles</td>\n",
       "      <td>8984</td>\n",
       "      <td>41.2</td>\n",
       "      <td>NaN</td>\n",
       "    </tr>\n",
       "    <tr>\n",
       "      <th>2</th>\n",
       "      <td>1st arrondissement(Called \"du Louvre\")</td>\n",
       "      <td>3rd</td>\n",
       "      <td>Palais-Royal</td>\n",
       "      <td>3195</td>\n",
       "      <td>27.4</td>\n",
       "      <td>NaN</td>\n",
       "    </tr>\n",
       "    <tr>\n",
       "      <th>3</th>\n",
       "      <td>1st arrondissement(Called \"du Louvre\")</td>\n",
       "      <td>4th</td>\n",
       "      <td>Place-Vendôme</td>\n",
       "      <td>3044</td>\n",
       "      <td>26.9</td>\n",
       "      <td>NaN</td>\n",
       "    </tr>\n",
       "    <tr>\n",
       "      <th>4</th>\n",
       "      <td>2nd arrondissement(Called \"de la Bourse\")</td>\n",
       "      <td>5th</td>\n",
       "      <td>Gaillon</td>\n",
       "      <td>1345</td>\n",
       "      <td>18.8</td>\n",
       "      <td>NaN</td>\n",
       "    </tr>\n",
       "    <tr>\n",
       "      <th>...</th>\n",
       "      <td>...</td>\n",
       "      <td>...</td>\n",
       "      <td>...</td>\n",
       "      <td>...</td>\n",
       "      <td>...</td>\n",
       "      <td>...</td>\n",
       "    </tr>\n",
       "    <tr>\n",
       "      <th>75</th>\n",
       "      <td>19th arrondissement(Called \"des Buttes-Chaumont\")</td>\n",
       "      <td>76th</td>\n",
       "      <td>Combat</td>\n",
       "      <td>38988</td>\n",
       "      <td>129.5</td>\n",
       "      <td>NaN</td>\n",
       "    </tr>\n",
       "    <tr>\n",
       "      <th>76</th>\n",
       "      <td>20th arrondissement(Called \"de Ménilmontant\")</td>\n",
       "      <td>77th</td>\n",
       "      <td>Belleville</td>\n",
       "      <td>35773</td>\n",
       "      <td>80.7</td>\n",
       "      <td>NaN</td>\n",
       "    </tr>\n",
       "    <tr>\n",
       "      <th>77</th>\n",
       "      <td>20th arrondissement(Called \"de Ménilmontant\")</td>\n",
       "      <td>78th</td>\n",
       "      <td>Saint-Fargeau</td>\n",
       "      <td>42087</td>\n",
       "      <td>148.7</td>\n",
       "      <td>NaN</td>\n",
       "    </tr>\n",
       "    <tr>\n",
       "      <th>78</th>\n",
       "      <td>20th arrondissement(Called \"de Ménilmontant\")</td>\n",
       "      <td>79th</td>\n",
       "      <td>Père-Lachaise</td>\n",
       "      <td>42332</td>\n",
       "      <td>159.9</td>\n",
       "      <td>NaN</td>\n",
       "    </tr>\n",
       "    <tr>\n",
       "      <th>79</th>\n",
       "      <td>20th arrondissement(Called \"de Ménilmontant\")</td>\n",
       "      <td>80th</td>\n",
       "      <td>Charonne</td>\n",
       "      <td>62901</td>\n",
       "      <td>209.1</td>\n",
       "      <td>NaN</td>\n",
       "    </tr>\n",
       "  </tbody>\n",
       "</table>\n",
       "<p>80 rows × 6 columns</p>\n",
       "</div>"
      ],
      "text/plain": [
       "                            Arrondissement(Districts) Quartiers(Quarters)  \\\n",
       "0              1st arrondissement(Called \"du Louvre\")                 1st   \n",
       "1              1st arrondissement(Called \"du Louvre\")                 2nd   \n",
       "2              1st arrondissement(Called \"du Louvre\")                 3rd   \n",
       "3              1st arrondissement(Called \"du Louvre\")                 4th   \n",
       "4           2nd arrondissement(Called \"de la Bourse\")                 5th   \n",
       "..                                                ...                 ...   \n",
       "75  19th arrondissement(Called \"des Buttes-Chaumont\")                76th   \n",
       "76      20th arrondissement(Called \"de Ménilmontant\")                77th   \n",
       "77      20th arrondissement(Called \"de Ménilmontant\")                78th   \n",
       "78      20th arrondissement(Called \"de Ménilmontant\")                79th   \n",
       "79      20th arrondissement(Called \"de Ménilmontant\")                80th   \n",
       "\n",
       "        Quartiers(Quarters).1  Population in1999[3]  Area(hectares)[3]  Map  \n",
       "0   Saint-Germain-l'Auxerrois                  1672               86.9  NaN  \n",
       "1                  Les Halles                  8984               41.2  NaN  \n",
       "2                Palais-Royal                  3195               27.4  NaN  \n",
       "3               Place-Vendôme                  3044               26.9  NaN  \n",
       "4                     Gaillon                  1345               18.8  NaN  \n",
       "..                        ...                   ...                ...  ...  \n",
       "75                     Combat                 38988              129.5  NaN  \n",
       "76                 Belleville                 35773               80.7  NaN  \n",
       "77              Saint-Fargeau                 42087              148.7  NaN  \n",
       "78              Père-Lachaise                 42332              159.9  NaN  \n",
       "79                   Charonne                 62901              209.1  NaN  \n",
       "\n",
       "[80 rows x 6 columns]"
      ]
     },
     "execution_count": 24,
     "metadata": {},
     "output_type": "execute_result"
    }
   ],
   "source": [
    "table[0].head(80)\n"
   ]
  },
  {
   "cell_type": "code",
   "execution_count": 39,
   "metadata": {},
   "outputs": [],
   "source": [
    "df1 = table[0].drop(columns=['Quartiers(Quarters)','Map'],axis =1)"
   ]
  },
  {
   "cell_type": "code",
   "execution_count": 40,
   "metadata": {},
   "outputs": [
    {
     "data": {
      "text/html": [
       "<div>\n",
       "<style scoped>\n",
       "    .dataframe tbody tr th:only-of-type {\n",
       "        vertical-align: middle;\n",
       "    }\n",
       "\n",
       "    .dataframe tbody tr th {\n",
       "        vertical-align: top;\n",
       "    }\n",
       "\n",
       "    .dataframe thead th {\n",
       "        text-align: right;\n",
       "    }\n",
       "</style>\n",
       "<table border=\"1\" class=\"dataframe\">\n",
       "  <thead>\n",
       "    <tr style=\"text-align: right;\">\n",
       "      <th></th>\n",
       "      <th>Arrondissement(Districts)</th>\n",
       "      <th>Quartiers(Quarters).1</th>\n",
       "      <th>Population in1999[3]</th>\n",
       "      <th>Area(hectares)[3]</th>\n",
       "    </tr>\n",
       "  </thead>\n",
       "  <tbody>\n",
       "    <tr>\n",
       "      <th>0</th>\n",
       "      <td>1st arrondissement(Called \"du Louvre\")</td>\n",
       "      <td>Saint-Germain-l'Auxerrois</td>\n",
       "      <td>1672</td>\n",
       "      <td>86.9</td>\n",
       "    </tr>\n",
       "    <tr>\n",
       "      <th>1</th>\n",
       "      <td>1st arrondissement(Called \"du Louvre\")</td>\n",
       "      <td>Les Halles</td>\n",
       "      <td>8984</td>\n",
       "      <td>41.2</td>\n",
       "    </tr>\n",
       "    <tr>\n",
       "      <th>2</th>\n",
       "      <td>1st arrondissement(Called \"du Louvre\")</td>\n",
       "      <td>Palais-Royal</td>\n",
       "      <td>3195</td>\n",
       "      <td>27.4</td>\n",
       "    </tr>\n",
       "    <tr>\n",
       "      <th>3</th>\n",
       "      <td>1st arrondissement(Called \"du Louvre\")</td>\n",
       "      <td>Place-Vendôme</td>\n",
       "      <td>3044</td>\n",
       "      <td>26.9</td>\n",
       "    </tr>\n",
       "    <tr>\n",
       "      <th>4</th>\n",
       "      <td>2nd arrondissement(Called \"de la Bourse\")</td>\n",
       "      <td>Gaillon</td>\n",
       "      <td>1345</td>\n",
       "      <td>18.8</td>\n",
       "    </tr>\n",
       "  </tbody>\n",
       "</table>\n",
       "</div>"
      ],
      "text/plain": [
       "                   Arrondissement(Districts)      Quartiers(Quarters).1  \\\n",
       "0     1st arrondissement(Called \"du Louvre\")  Saint-Germain-l'Auxerrois   \n",
       "1     1st arrondissement(Called \"du Louvre\")                 Les Halles   \n",
       "2     1st arrondissement(Called \"du Louvre\")               Palais-Royal   \n",
       "3     1st arrondissement(Called \"du Louvre\")              Place-Vendôme   \n",
       "4  2nd arrondissement(Called \"de la Bourse\")                    Gaillon   \n",
       "\n",
       "   Population in1999[3]  Area(hectares)[3]  \n",
       "0                  1672               86.9  \n",
       "1                  8984               41.2  \n",
       "2                  3195               27.4  \n",
       "3                  3044               26.9  \n",
       "4                  1345               18.8  "
      ]
     },
     "execution_count": 40,
     "metadata": {},
     "output_type": "execute_result"
    }
   ],
   "source": [
    "df1.head()\n"
   ]
  },
  {
   "cell_type": "code",
   "execution_count": 42,
   "metadata": {},
   "outputs": [],
   "source": [
    "df1.rename(columns = {'Arrondissement(Districts)' : 'Boroughs', 'Quartiers(Quarters).1' : 'Quarters'}, inplace = True)"
   ]
  },
  {
   "cell_type": "code",
   "execution_count": 48,
   "metadata": {
    "scrolled": true
   },
   "outputs": [
    {
     "data": {
      "text/html": [
       "<div>\n",
       "<style scoped>\n",
       "    .dataframe tbody tr th:only-of-type {\n",
       "        vertical-align: middle;\n",
       "    }\n",
       "\n",
       "    .dataframe tbody tr th {\n",
       "        vertical-align: top;\n",
       "    }\n",
       "\n",
       "    .dataframe thead th {\n",
       "        text-align: right;\n",
       "    }\n",
       "</style>\n",
       "<table border=\"1\" class=\"dataframe\">\n",
       "  <thead>\n",
       "    <tr style=\"text-align: right;\">\n",
       "      <th></th>\n",
       "      <th>Boroughs</th>\n",
       "      <th>Quarters</th>\n",
       "      <th>Population in1999[3]</th>\n",
       "      <th>Area(hectares)[3]</th>\n",
       "    </tr>\n",
       "  </thead>\n",
       "  <tbody>\n",
       "    <tr>\n",
       "      <th>0</th>\n",
       "      <td>1st arrondissement(Called \"du Louvre\")</td>\n",
       "      <td>Saint-Germain-l'Auxerrois</td>\n",
       "      <td>1672</td>\n",
       "      <td>86.9</td>\n",
       "    </tr>\n",
       "    <tr>\n",
       "      <th>1</th>\n",
       "      <td>1st arrondissement(Called \"du Louvre\")</td>\n",
       "      <td>Les Halles</td>\n",
       "      <td>8984</td>\n",
       "      <td>41.2</td>\n",
       "    </tr>\n",
       "    <tr>\n",
       "      <th>2</th>\n",
       "      <td>1st arrondissement(Called \"du Louvre\")</td>\n",
       "      <td>Palais-Royal</td>\n",
       "      <td>3195</td>\n",
       "      <td>27.4</td>\n",
       "    </tr>\n",
       "    <tr>\n",
       "      <th>3</th>\n",
       "      <td>1st arrondissement(Called \"du Louvre\")</td>\n",
       "      <td>Place-Vendôme</td>\n",
       "      <td>3044</td>\n",
       "      <td>26.9</td>\n",
       "    </tr>\n",
       "    <tr>\n",
       "      <th>4</th>\n",
       "      <td>2nd arrondissement(Called \"de la Bourse\")</td>\n",
       "      <td>Gaillon</td>\n",
       "      <td>1345</td>\n",
       "      <td>18.8</td>\n",
       "    </tr>\n",
       "  </tbody>\n",
       "</table>\n",
       "</div>"
      ],
      "text/plain": [
       "                                    Boroughs                   Quarters  \\\n",
       "0     1st arrondissement(Called \"du Louvre\")  Saint-Germain-l'Auxerrois   \n",
       "1     1st arrondissement(Called \"du Louvre\")                 Les Halles   \n",
       "2     1st arrondissement(Called \"du Louvre\")               Palais-Royal   \n",
       "3     1st arrondissement(Called \"du Louvre\")              Place-Vendôme   \n",
       "4  2nd arrondissement(Called \"de la Bourse\")                    Gaillon   \n",
       "\n",
       "   Population in1999[3]  Area(hectares)[3]  \n",
       "0                  1672               86.9  \n",
       "1                  8984               41.2  \n",
       "2                  3195               27.4  \n",
       "3                  3044               26.9  \n",
       "4                  1345               18.8  "
      ]
     },
     "execution_count": 48,
     "metadata": {},
     "output_type": "execute_result"
    }
   ],
   "source": [
    "df1.head()\n"
   ]
  },
  {
   "cell_type": "code",
   "execution_count": 47,
   "metadata": {},
   "outputs": [
    {
     "data": {
      "text/plain": [
       "Boroughs                                     Quarters             \n",
       "10th arrondissement(Called \"de l'Entrepôt\")  Hôpital-Saint-Louis      [Boroughs, Quarters, Population in1999[3], Are...\n",
       "                                             Porte-Saint-Denis        [Boroughs, Quarters, Population in1999[3], Are...\n",
       "                                             Porte-Saint-Martin       [Boroughs, Quarters, Population in1999[3], Are...\n",
       "                                             Saint-Vincent-de-Paul    [Boroughs, Quarters, Population in1999[3], Are...\n",
       "11th arrondissement(Called \"de Popincourt\")  Folie-Méricourt          [Boroughs, Quarters, Population in1999[3], Are...\n",
       "                                                                                            ...                        \n",
       "8th arrondissement(Called \"de l'Élysée\")     La Madeleine             [Boroughs, Quarters, Population in1999[3], Are...\n",
       "9th arrondissement(Called \"de l'Opéra\")      Chaussée-d'Antin         [Boroughs, Quarters, Population in1999[3], Are...\n",
       "                                             Faubourg-Montmartre      [Boroughs, Quarters, Population in1999[3], Are...\n",
       "                                             Rochechouart             [Boroughs, Quarters, Population in1999[3], Are...\n",
       "                                             Saint-Georges            [Boroughs, Quarters, Population in1999[3], Are...\n",
       "Length: 80, dtype: object"
      ]
     },
     "execution_count": 47,
     "metadata": {},
     "output_type": "execute_result"
    }
   ],
   "source": [
    "mod_df1 = df1.groupby(['Boroughs', 'Quarters']).apply(list)\n",
    "mod_df1"
   ]
  },
  {
   "cell_type": "markdown",
   "metadata": {},
   "source": [
    "## 3. Methodology"
   ]
  },
  {
   "cell_type": "markdown",
   "metadata": {},
   "source": [
    "## 4. Analysis"
   ]
  },
  {
   "cell_type": "markdown",
   "metadata": {},
   "source": [
    "## 5. Discussion"
   ]
  },
  {
   "cell_type": "markdown",
   "metadata": {},
   "source": [
    "## 6. Conclusion"
   ]
  },
  {
   "cell_type": "markdown",
   "metadata": {},
   "source": []
  }
 ],
 "metadata": {
  "kernelspec": {
   "display_name": "Python 3",
   "language": "python",
   "name": "python3"
  },
  "language_info": {
   "codemirror_mode": {
    "name": "ipython",
    "version": 3
   },
   "file_extension": ".py",
   "mimetype": "text/x-python",
   "name": "python",
   "nbconvert_exporter": "python",
   "pygments_lexer": "ipython3",
   "version": "3.8.5"
  }
 },
 "nbformat": 4,
 "nbformat_minor": 4
}

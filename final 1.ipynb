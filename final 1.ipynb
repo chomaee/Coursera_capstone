{
 "cells": [
  {
   "cell_type": "markdown",
   "metadata": {},
   "source": [
    "# Segmenting and Clustering Neighborhoods in Toronto"
   ]
  },
  {
   "cell_type": "markdown",
   "metadata": {},
   "source": [
    "## Import various libraries that will be used "
   ]
  },
  {
   "cell_type": "code",
   "execution_count": 25,
   "metadata": {},
   "outputs": [
    {
     "name": "stdout",
     "output_type": "stream",
     "text": [
      "Libraries imported.\n"
     ]
    }
   ],
   "source": [
    "import numpy as np # library to handle data in a vectorized manner\n",
    "\n",
    "import pandas as pd # library for data analsysis\n",
    "pd.set_option('display.max_columns', None)\n",
    "pd.set_option('display.max_rows', None)\n",
    "\n",
    "import json # library to handle JSON files\n",
    "\n",
    "\n",
    "#!conda install -c conda-forge geopy --yes # uncomment this line if you haven't completed the Foursquare API lab\n",
    "from geopy.geocoders import Nominatim # convert an address into latitude and longitude values\n",
    "\n",
    "import requests # library to handle requests\n",
    "from pandas.io.json import json_normalize # tranform JSON file into a pandas dataframe\n",
    "\n",
    "# Matplotlib and associated plotting modules\n",
    "import matplotlib.cm as cm\n",
    "import matplotlib.colors as colors\n",
    "\n",
    "# import k-means from clustering stage\n",
    "from sklearn.cluster import KMeans\n",
    "\n",
    "#!conda install -c conda-forge folium=0.5.0 --yes # uncomment this line if you haven't completed the Foursquare API lab\n",
    "import folium # map rendering library\n",
    "from folium import plugins\n",
    "from folium.plugins import MarkerCluster\n",
    "\n",
    "print('Libraries imported.')"
   ]
  },
  {
   "cell_type": "markdown",
   "metadata": {},
   "source": [
    "#### Install Beautiful Soup"
   ]
  },
  {
   "cell_type": "code",
   "execution_count": 26,
   "metadata": {
    "scrolled": true
   },
   "outputs": [
    {
     "name": "stdout",
     "output_type": "stream",
     "text": [
      "Requirement already satisfied: bs4 in /Applications/anaconda3/lib/python3.8/site-packages (0.0.1)\n",
      "Requirement already satisfied: beautifulsoup4 in /Applications/anaconda3/lib/python3.8/site-packages (from bs4) (4.9.3)\n",
      "Requirement already satisfied: soupsieve>1.2; python_version >= \"3.0\" in /Applications/anaconda3/lib/python3.8/site-packages (from beautifulsoup4->bs4) (2.0.1)\n",
      "Note: you may need to restart the kernel to use updated packages.\n"
     ]
    }
   ],
   "source": [
    "%pip install bs4"
   ]
  },
  {
   "cell_type": "markdown",
   "metadata": {},
   "source": [
    "#### Webscrape website for postal Codes in Canada and print shape of table"
   ]
  },
  {
   "cell_type": "code",
   "execution_count": 87,
   "metadata": {},
   "outputs": [
    {
     "data": {
      "text/plain": [
       "(288, 3)"
      ]
     },
     "execution_count": 87,
     "metadata": {},
     "output_type": "execute_result"
    }
   ],
   "source": [
    "#read table using pandas, \n",
    "url = 'http://zims-en.kiwix.campusafrica.gos.orange.com/wikipedia_en_all_nopic/A/List_of_postal_codes_of_Canada:_M'\n",
    "table = pd.read_html(url)\n",
    "table[0].head()\n",
    "table[0].shape"
   ]
  },
  {
   "cell_type": "markdown",
   "metadata": {},
   "source": [
    "##### Replaced not assigned with NAN and checked to make sure that Neighbourhood has a corresponding Borough"
   ]
  },
  {
   "cell_type": "code",
   "execution_count": 97,
   "metadata": {
    "scrolled": true
   },
   "outputs": [
    {
     "data": {
      "text/html": [
       "<div>\n",
       "<style scoped>\n",
       "    .dataframe tbody tr th:only-of-type {\n",
       "        vertical-align: middle;\n",
       "    }\n",
       "\n",
       "    .dataframe tbody tr th {\n",
       "        vertical-align: top;\n",
       "    }\n",
       "\n",
       "    .dataframe thead th {\n",
       "        text-align: right;\n",
       "    }\n",
       "</style>\n",
       "<table border=\"1\" class=\"dataframe\">\n",
       "  <thead>\n",
       "    <tr style=\"text-align: right;\">\n",
       "      <th></th>\n",
       "      <th>Postcode</th>\n",
       "      <th>Borough</th>\n",
       "      <th>Neighbourhood</th>\n",
       "    </tr>\n",
       "  </thead>\n",
       "  <tbody>\n",
       "    <tr>\n",
       "      <th>0</th>\n",
       "      <td>M1A</td>\n",
       "      <td>NaN</td>\n",
       "      <td>NaN</td>\n",
       "    </tr>\n",
       "    <tr>\n",
       "      <th>1</th>\n",
       "      <td>M2A</td>\n",
       "      <td>NaN</td>\n",
       "      <td>NaN</td>\n",
       "    </tr>\n",
       "    <tr>\n",
       "      <th>2</th>\n",
       "      <td>M3A</td>\n",
       "      <td>North York</td>\n",
       "      <td>Parkwoods</td>\n",
       "    </tr>\n",
       "    <tr>\n",
       "      <th>3</th>\n",
       "      <td>M4A</td>\n",
       "      <td>North York</td>\n",
       "      <td>Victoria Village</td>\n",
       "    </tr>\n",
       "    <tr>\n",
       "      <th>4</th>\n",
       "      <td>M5A</td>\n",
       "      <td>Downtown Toronto</td>\n",
       "      <td>Harbourfront</td>\n",
       "    </tr>\n",
       "  </tbody>\n",
       "</table>\n",
       "</div>"
      ],
      "text/plain": [
       "  Postcode           Borough     Neighbourhood\n",
       "0      M1A               NaN               NaN\n",
       "1      M2A               NaN               NaN\n",
       "2      M3A        North York         Parkwoods\n",
       "3      M4A        North York  Victoria Village\n",
       "4      M5A  Downtown Toronto      Harbourfront"
      ]
     },
     "execution_count": 97,
     "metadata": {},
     "output_type": "execute_result"
    }
   ],
   "source": [
    "#replace 'Not assigned' with 'NaN'\n",
    "table[0].replace(\"Not assigned\", np.nan, inplace=True)\n",
    "table[0].head()"
   ]
  },
  {
   "cell_type": "markdown",
   "metadata": {},
   "source": [
    "##### Dropped NaN from table"
   ]
  },
  {
   "cell_type": "code",
   "execution_count": 139,
   "metadata": {},
   "outputs": [
    {
     "data": {
      "text/html": [
       "<div>\n",
       "<style scoped>\n",
       "    .dataframe tbody tr th:only-of-type {\n",
       "        vertical-align: middle;\n",
       "    }\n",
       "\n",
       "    .dataframe tbody tr th {\n",
       "        vertical-align: top;\n",
       "    }\n",
       "\n",
       "    .dataframe thead th {\n",
       "        text-align: right;\n",
       "    }\n",
       "</style>\n",
       "<table border=\"1\" class=\"dataframe\">\n",
       "  <thead>\n",
       "    <tr style=\"text-align: right;\">\n",
       "      <th></th>\n",
       "      <th>Postcode</th>\n",
       "      <th>Borough</th>\n",
       "      <th>Neighbourhood</th>\n",
       "    </tr>\n",
       "  </thead>\n",
       "  <tbody>\n",
       "    <tr>\n",
       "      <th>2</th>\n",
       "      <td>M3A</td>\n",
       "      <td>North York</td>\n",
       "      <td>Parkwoods</td>\n",
       "    </tr>\n",
       "    <tr>\n",
       "      <th>3</th>\n",
       "      <td>M4A</td>\n",
       "      <td>North York</td>\n",
       "      <td>Victoria Village</td>\n",
       "    </tr>\n",
       "    <tr>\n",
       "      <th>4</th>\n",
       "      <td>M5A</td>\n",
       "      <td>Downtown Toronto</td>\n",
       "      <td>Harbourfront</td>\n",
       "    </tr>\n",
       "    <tr>\n",
       "      <th>5</th>\n",
       "      <td>M6A</td>\n",
       "      <td>North York</td>\n",
       "      <td>Lawrence Heights</td>\n",
       "    </tr>\n",
       "    <tr>\n",
       "      <th>6</th>\n",
       "      <td>M6A</td>\n",
       "      <td>North York</td>\n",
       "      <td>Lawrence Manor</td>\n",
       "    </tr>\n",
       "  </tbody>\n",
       "</table>\n",
       "</div>"
      ],
      "text/plain": [
       "  Postcode           Borough     Neighbourhood\n",
       "2      M3A        North York         Parkwoods\n",
       "3      M4A        North York  Victoria Village\n",
       "4      M5A  Downtown Toronto      Harbourfront\n",
       "5      M6A        North York  Lawrence Heights\n",
       "6      M6A        North York    Lawrence Manor"
      ]
     },
     "execution_count": 139,
     "metadata": {},
     "output_type": "execute_result"
    }
   ],
   "source": [
    "df1 = df.dropna()\n",
    "df1.head()"
   ]
  },
  {
   "cell_type": "code",
   "execution_count": 140,
   "metadata": {},
   "outputs": [
    {
     "data": {
      "text/plain": [
       "(209, 3)"
      ]
     },
     "execution_count": 140,
     "metadata": {},
     "output_type": "execute_result"
    }
   ],
   "source": [
    "df1.shape"
   ]
  },
  {
   "cell_type": "code",
   "execution_count": 183,
   "metadata": {},
   "outputs": [],
   "source": [
    "mod_df1 = df1.groupby(['Postcode', 'Borough', 'Neighbourhood']).apply(list)"
   ]
  },
  {
   "cell_type": "code",
   "execution_count": 184,
   "metadata": {},
   "outputs": [
    {
     "data": {
      "text/plain": [
       "Postcode  Borough           Neighbourhood                                    \n",
       "M1B       Scarborough       Malvern                                              [Postcode, Borough, Neighbourhood]\n",
       "                            Rouge                                                [Postcode, Borough, Neighbourhood]\n",
       "M1C       Scarborough       Highland Creek                                       [Postcode, Borough, Neighbourhood]\n",
       "                            Port Union                                           [Postcode, Borough, Neighbourhood]\n",
       "                            Rouge Hill                                           [Postcode, Borough, Neighbourhood]\n",
       "M1E       Scarborough       Guildwood                                            [Postcode, Borough, Neighbourhood]\n",
       "                            Morningside                                          [Postcode, Borough, Neighbourhood]\n",
       "                            West Hill                                            [Postcode, Borough, Neighbourhood]\n",
       "M1G       Scarborough       Woburn                                               [Postcode, Borough, Neighbourhood]\n",
       "M1H       Scarborough       Cedarbrae                                            [Postcode, Borough, Neighbourhood]\n",
       "M1J       Scarborough       Scarborough Village                                  [Postcode, Borough, Neighbourhood]\n",
       "M1K       Scarborough       East Birchmount Park                                 [Postcode, Borough, Neighbourhood]\n",
       "                            Ionview                                              [Postcode, Borough, Neighbourhood]\n",
       "                            Kennedy Park                                         [Postcode, Borough, Neighbourhood]\n",
       "M1L       Scarborough       Clairlea                                             [Postcode, Borough, Neighbourhood]\n",
       "                            Golden Mile                                          [Postcode, Borough, Neighbourhood]\n",
       "                            Oakridge                                             [Postcode, Borough, Neighbourhood]\n",
       "M1M       Scarborough       Cliffcrest                                           [Postcode, Borough, Neighbourhood]\n",
       "                            Cliffside                                            [Postcode, Borough, Neighbourhood]\n",
       "                            Scarborough Village West                             [Postcode, Borough, Neighbourhood]\n",
       "M1N       Scarborough       Birch Cliff                                          [Postcode, Borough, Neighbourhood]\n",
       "                            Cliffside West                                       [Postcode, Borough, Neighbourhood]\n",
       "M1P       Scarborough       Dorset Park                                          [Postcode, Borough, Neighbourhood]\n",
       "                            Scarborough Town Centre                              [Postcode, Borough, Neighbourhood]\n",
       "                            Wexford Heights                                      [Postcode, Borough, Neighbourhood]\n",
       "M1R       Scarborough       Maryvale                                             [Postcode, Borough, Neighbourhood]\n",
       "                            Wexford                                              [Postcode, Borough, Neighbourhood]\n",
       "M1S       Scarborough       Agincourt                                            [Postcode, Borough, Neighbourhood]\n",
       "M1T       Scarborough       Clarks Corners                                       [Postcode, Borough, Neighbourhood]\n",
       "                            Sullivan                                             [Postcode, Borough, Neighbourhood]\n",
       "                            Tam O'Shanter                                        [Postcode, Borough, Neighbourhood]\n",
       "M1V       Scarborough       Agincourt North                                      [Postcode, Borough, Neighbourhood]\n",
       "                            L'Amoreaux East                                      [Postcode, Borough, Neighbourhood]\n",
       "                            Milliken                                             [Postcode, Borough, Neighbourhood]\n",
       "                            Steeles East                                         [Postcode, Borough, Neighbourhood]\n",
       "M1W       Scarborough       L'Amoreaux West                                      [Postcode, Borough, Neighbourhood]\n",
       "M1X       Scarborough       Upper Rouge                                          [Postcode, Borough, Neighbourhood]\n",
       "M2H       North York        Hillcrest Village                                    [Postcode, Borough, Neighbourhood]\n",
       "M2J       North York        Fairview                                             [Postcode, Borough, Neighbourhood]\n",
       "                            Henry Farm                                           [Postcode, Borough, Neighbourhood]\n",
       "                            Oriole                                               [Postcode, Borough, Neighbourhood]\n",
       "M2K       North York        Bayview Village                                      [Postcode, Borough, Neighbourhood]\n",
       "M2L       North York        Silver Hills                                         [Postcode, Borough, Neighbourhood]\n",
       "                            York Mills                                           [Postcode, Borough, Neighbourhood]\n",
       "M2M       North York        Newtonbrook                                          [Postcode, Borough, Neighbourhood]\n",
       "                            Willowdale                                           [Postcode, Borough, Neighbourhood]\n",
       "M2N       North York        Willowdale South                                     [Postcode, Borough, Neighbourhood]\n",
       "M2P       North York        York Mills West                                      [Postcode, Borough, Neighbourhood]\n",
       "M2R       North York        Willowdale West                                      [Postcode, Borough, Neighbourhood]\n",
       "M3A       North York        Parkwoods                                            [Postcode, Borough, Neighbourhood]\n",
       "M3B       North York        Don Mills North                                      [Postcode, Borough, Neighbourhood]\n",
       "M3C       North York        Don Mills South                                      [Postcode, Borough, Neighbourhood]\n",
       "                            Flemingdon Park                                      [Postcode, Borough, Neighbourhood]\n",
       "M3H       North York        Bathurst Manor                                       [Postcode, Borough, Neighbourhood]\n",
       "                            Downsview North                                      [Postcode, Borough, Neighbourhood]\n",
       "                            Wilson Heights                                       [Postcode, Borough, Neighbourhood]\n",
       "M3J       North York        Northwood Park                                       [Postcode, Borough, Neighbourhood]\n",
       "                            York University                                      [Postcode, Borough, Neighbourhood]\n",
       "M3K       North York        CFB Toronto                                          [Postcode, Borough, Neighbourhood]\n",
       "                            Downsview East                                       [Postcode, Borough, Neighbourhood]\n",
       "M3L       North York        Downsview West                                       [Postcode, Borough, Neighbourhood]\n",
       "M3M       North York        Downsview Central                                    [Postcode, Borough, Neighbourhood]\n",
       "M3N       North York        Downsview Northwest                                  [Postcode, Borough, Neighbourhood]\n",
       "M4A       North York        Victoria Village                                     [Postcode, Borough, Neighbourhood]\n",
       "M4B       East York         Parkview Hill                                        [Postcode, Borough, Neighbourhood]\n",
       "                            Woodbine Gardens                                     [Postcode, Borough, Neighbourhood]\n",
       "M4C       East York         Woodbine Heights                                     [Postcode, Borough, Neighbourhood]\n",
       "M4E       East Toronto      The Beaches                                          [Postcode, Borough, Neighbourhood]\n",
       "M4G       East York         Leaside                                              [Postcode, Borough, Neighbourhood]\n",
       "M4H       East York         Thorncliffe Park                                     [Postcode, Borough, Neighbourhood]\n",
       "M4J       East York         East Toronto                                         [Postcode, Borough, Neighbourhood]\n",
       "M4K       East Toronto      Riverdale                                            [Postcode, Borough, Neighbourhood]\n",
       "                            The Danforth West                                    [Postcode, Borough, Neighbourhood]\n",
       "M4L       East Toronto      India Bazaar                                         [Postcode, Borough, Neighbourhood]\n",
       "                            The Beaches West                                     [Postcode, Borough, Neighbourhood]\n",
       "M4M       East Toronto      Studio District                                      [Postcode, Borough, Neighbourhood]\n",
       "M4N       Central Toronto   Lawrence Park                                        [Postcode, Borough, Neighbourhood]\n",
       "M4P       Central Toronto   Davisville North                                     [Postcode, Borough, Neighbourhood]\n",
       "M4R       Central Toronto   North Toronto West                                   [Postcode, Borough, Neighbourhood]\n",
       "M4S       Central Toronto   Davisville                                           [Postcode, Borough, Neighbourhood]\n",
       "M4T       Central Toronto   Moore Park                                           [Postcode, Borough, Neighbourhood]\n",
       "                            Summerhill East                                      [Postcode, Borough, Neighbourhood]\n",
       "M4V       Central Toronto   Deer Park                                            [Postcode, Borough, Neighbourhood]\n",
       "                            Forest Hill SE                                       [Postcode, Borough, Neighbourhood]\n",
       "                            Rathnelly                                            [Postcode, Borough, Neighbourhood]\n",
       "                            South Hill                                           [Postcode, Borough, Neighbourhood]\n",
       "                            Summerhill West                                      [Postcode, Borough, Neighbourhood]\n",
       "M4W       Downtown Toronto  Rosedale                                             [Postcode, Borough, Neighbourhood]\n",
       "M4X       Downtown Toronto  Cabbagetown                                          [Postcode, Borough, Neighbourhood]\n",
       "                            St. James Town                                       [Postcode, Borough, Neighbourhood]\n",
       "M4Y       Downtown Toronto  Church and Wellesley                                 [Postcode, Borough, Neighbourhood]\n",
       "M5A       Downtown Toronto  Harbourfront                                         [Postcode, Borough, Neighbourhood]\n",
       "M5B       Downtown Toronto  Garden District                                      [Postcode, Borough, Neighbourhood]\n",
       "                            Ryerson                                              [Postcode, Borough, Neighbourhood]\n",
       "M5C       Downtown Toronto  St. James Town                                       [Postcode, Borough, Neighbourhood]\n",
       "M5E       Downtown Toronto  Berczy Park                                          [Postcode, Borough, Neighbourhood]\n",
       "M5G       Downtown Toronto  Central Bay Street                                   [Postcode, Borough, Neighbourhood]\n",
       "M5H       Downtown Toronto  Adelaide                                             [Postcode, Borough, Neighbourhood]\n",
       "                            King                                                 [Postcode, Borough, Neighbourhood]\n",
       "                            Richmond                                             [Postcode, Borough, Neighbourhood]\n",
       "M5J       Downtown Toronto  Harbourfront East                                    [Postcode, Borough, Neighbourhood]\n",
       "                            Toronto Islands                                      [Postcode, Borough, Neighbourhood]\n",
       "                            Union Station                                        [Postcode, Borough, Neighbourhood]\n",
       "M5K       Downtown Toronto  Design Exchange                                      [Postcode, Borough, Neighbourhood]\n",
       "                            Toronto Dominion Centre                              [Postcode, Borough, Neighbourhood]\n",
       "M5L       Downtown Toronto  Commerce Court                                       [Postcode, Borough, Neighbourhood]\n",
       "                            Victoria Hotel                                       [Postcode, Borough, Neighbourhood]\n",
       "M5M       North York        Bedford Park                                         [Postcode, Borough, Neighbourhood]\n",
       "                            Lawrence Manor East                                  [Postcode, Borough, Neighbourhood]\n",
       "M5N       Central Toronto   Roselawn                                             [Postcode, Borough, Neighbourhood]\n",
       "M5P       Central Toronto   Forest Hill North                                    [Postcode, Borough, Neighbourhood]\n",
       "                            Forest Hill West                                     [Postcode, Borough, Neighbourhood]\n",
       "M5R       Central Toronto   North Midtown                                        [Postcode, Borough, Neighbourhood]\n",
       "                            The Annex                                            [Postcode, Borough, Neighbourhood]\n",
       "                            Yorkville                                            [Postcode, Borough, Neighbourhood]\n",
       "M5S       Downtown Toronto  Harbord                                              [Postcode, Borough, Neighbourhood]\n",
       "                            University of Toronto                                [Postcode, Borough, Neighbourhood]\n",
       "M5T       Downtown Toronto  Chinatown                                            [Postcode, Borough, Neighbourhood]\n",
       "                            Grange Park                                          [Postcode, Borough, Neighbourhood]\n",
       "                            Kensington Market                                    [Postcode, Borough, Neighbourhood]\n",
       "M5V       Downtown Toronto  Bathurst Quay                                        [Postcode, Borough, Neighbourhood]\n",
       "                            CN Tower                                             [Postcode, Borough, Neighbourhood]\n",
       "                            Harbourfront West                                    [Postcode, Borough, Neighbourhood]\n",
       "                            Island airport                                       [Postcode, Borough, Neighbourhood]\n",
       "                            King and Spadina                                     [Postcode, Borough, Neighbourhood]\n",
       "                            Railway Lands                                        [Postcode, Borough, Neighbourhood]\n",
       "                            South Niagara                                        [Postcode, Borough, Neighbourhood]\n",
       "M5W       Downtown Toronto  Stn A PO Boxes 25 The Esplanade                      [Postcode, Borough, Neighbourhood]\n",
       "M5X       Downtown Toronto  First Canadian Place                                 [Postcode, Borough, Neighbourhood]\n",
       "                            Underground city                                     [Postcode, Borough, Neighbourhood]\n",
       "M6A       North York        Lawrence Heights                                     [Postcode, Borough, Neighbourhood]\n",
       "                            Lawrence Manor                                       [Postcode, Borough, Neighbourhood]\n",
       "M6B       North York        Glencairn                                            [Postcode, Borough, Neighbourhood]\n",
       "M6C       York              Humewood-Cedarvale                                   [Postcode, Borough, Neighbourhood]\n",
       "M6E       York              Caledonia-Fairbanks                                  [Postcode, Borough, Neighbourhood]\n",
       "M6G       Downtown Toronto  Christie                                             [Postcode, Borough, Neighbourhood]\n",
       "M6H       West Toronto      Dovercourt Village                                   [Postcode, Borough, Neighbourhood]\n",
       "                            Dufferin                                             [Postcode, Borough, Neighbourhood]\n",
       "M6J       West Toronto      Little Portugal                                      [Postcode, Borough, Neighbourhood]\n",
       "                            Trinity                                              [Postcode, Borough, Neighbourhood]\n",
       "M6K       West Toronto      Brockton                                             [Postcode, Borough, Neighbourhood]\n",
       "                            Exhibition Place                                     [Postcode, Borough, Neighbourhood]\n",
       "                            Parkdale Village                                     [Postcode, Borough, Neighbourhood]\n",
       "M6L       North York        Downsview                                            [Postcode, Borough, Neighbourhood]\n",
       "                            North Park                                           [Postcode, Borough, Neighbourhood]\n",
       "                            Upwood Park                                          [Postcode, Borough, Neighbourhood]\n",
       "M6M       York              Del Ray                                              [Postcode, Borough, Neighbourhood]\n",
       "                            Keelesdale                                           [Postcode, Borough, Neighbourhood]\n",
       "                            Mount Dennis                                         [Postcode, Borough, Neighbourhood]\n",
       "                            Silverthorn                                          [Postcode, Borough, Neighbourhood]\n",
       "M6N       York              Runnymede                                            [Postcode, Borough, Neighbourhood]\n",
       "                            The Junction North                                   [Postcode, Borough, Neighbourhood]\n",
       "M6P       West Toronto      High Park                                            [Postcode, Borough, Neighbourhood]\n",
       "                            The Junction South                                   [Postcode, Borough, Neighbourhood]\n",
       "M6R       West Toronto      Parkdale                                             [Postcode, Borough, Neighbourhood]\n",
       "                            Roncesvalles                                         [Postcode, Borough, Neighbourhood]\n",
       "M6S       West Toronto      Runnymede                                            [Postcode, Borough, Neighbourhood]\n",
       "                            Swansea                                              [Postcode, Borough, Neighbourhood]\n",
       "M7R       Mississauga       Canada Post Gateway Processing Centre                [Postcode, Borough, Neighbourhood]\n",
       "M7Y       East Toronto      Business Reply Mail Processing Centre 969 Eastern    [Postcode, Borough, Neighbourhood]\n",
       "M8V       Etobicoke         Humber Bay Shores                                    [Postcode, Borough, Neighbourhood]\n",
       "                            Mimico South                                         [Postcode, Borough, Neighbourhood]\n",
       "                            New Toronto                                          [Postcode, Borough, Neighbourhood]\n",
       "M8W       Etobicoke         Alderwood                                            [Postcode, Borough, Neighbourhood]\n",
       "                            Long Branch                                          [Postcode, Borough, Neighbourhood]\n",
       "M8X       Etobicoke         Montgomery Road                                      [Postcode, Borough, Neighbourhood]\n",
       "                            Old Mill North                                       [Postcode, Borough, Neighbourhood]\n",
       "                            The Kingsway                                         [Postcode, Borough, Neighbourhood]\n",
       "M8Y       Etobicoke         Humber Bay                                           [Postcode, Borough, Neighbourhood]\n",
       "                            King's Mill Park                                     [Postcode, Borough, Neighbourhood]\n",
       "                            Kingsway Park South East                             [Postcode, Borough, Neighbourhood]\n",
       "                            Mimico NE                                            [Postcode, Borough, Neighbourhood]\n",
       "                            Old Mill South                                       [Postcode, Borough, Neighbourhood]\n",
       "                            Royal York South East                                [Postcode, Borough, Neighbourhood]\n",
       "                            Sunnylea                                             [Postcode, Borough, Neighbourhood]\n",
       "                            The Queensway East                                   [Postcode, Borough, Neighbourhood]\n",
       "M8Z       Etobicoke         Kingsway Park South West                             [Postcode, Borough, Neighbourhood]\n",
       "                            Mimico NW                                            [Postcode, Borough, Neighbourhood]\n",
       "                            Royal York South West                                [Postcode, Borough, Neighbourhood]\n",
       "                            South of Bloor                                       [Postcode, Borough, Neighbourhood]\n",
       "                            The Queensway West                                   [Postcode, Borough, Neighbourhood]\n",
       "M9A       Downtown Toronto  Queen's Park                                         [Postcode, Borough, Neighbourhood]\n",
       "M9B       Etobicoke         Cloverdale                                           [Postcode, Borough, Neighbourhood]\n",
       "                            Islington                                            [Postcode, Borough, Neighbourhood]\n",
       "                            Martin Grove                                         [Postcode, Borough, Neighbourhood]\n",
       "                            Princess Gardens                                     [Postcode, Borough, Neighbourhood]\n",
       "                            West Deane Park                                      [Postcode, Borough, Neighbourhood]\n",
       "M9C       Etobicoke         Bloordale Gardens                                    [Postcode, Borough, Neighbourhood]\n",
       "                            Eringate                                             [Postcode, Borough, Neighbourhood]\n",
       "                            Markland Wood                                        [Postcode, Borough, Neighbourhood]\n",
       "                            Old Burnhamthorpe                                    [Postcode, Borough, Neighbourhood]\n",
       "M9L       North York        Humber Summit                                        [Postcode, Borough, Neighbourhood]\n",
       "M9M       North York        Emery                                                [Postcode, Borough, Neighbourhood]\n",
       "                            Humberlea                                            [Postcode, Borough, Neighbourhood]\n",
       "M9N       York              Weston                                               [Postcode, Borough, Neighbourhood]\n",
       "M9P       Etobicoke         Westmount                                            [Postcode, Borough, Neighbourhood]\n",
       "M9R       Etobicoke         Kingsview Village                                    [Postcode, Borough, Neighbourhood]\n",
       "                            Martin Grove Gardens                                 [Postcode, Borough, Neighbourhood]\n",
       "                            Richview Gardens                                     [Postcode, Borough, Neighbourhood]\n",
       "                            St. Phillips                                         [Postcode, Borough, Neighbourhood]\n",
       "M9V       Etobicoke         Albion Gardens                                       [Postcode, Borough, Neighbourhood]\n",
       "                            Beaumond Heights                                     [Postcode, Borough, Neighbourhood]\n",
       "                            Humbergate                                           [Postcode, Borough, Neighbourhood]\n",
       "                            Jamestown                                            [Postcode, Borough, Neighbourhood]\n",
       "                            Mount Olive                                          [Postcode, Borough, Neighbourhood]\n",
       "                            Silverstone                                          [Postcode, Borough, Neighbourhood]\n",
       "                            South Steeles                                        [Postcode, Borough, Neighbourhood]\n",
       "                            Thistletown                                          [Postcode, Borough, Neighbourhood]\n",
       "M9W       Etobicoke         Northwest                                            [Postcode, Borough, Neighbourhood]\n",
       "dtype: object"
      ]
     },
     "execution_count": 184,
     "metadata": {},
     "output_type": "execute_result"
    }
   ],
   "source": [
    "mod_df1\n"
   ]
  },
  {
   "cell_type": "code",
   "execution_count": 185,
   "metadata": {},
   "outputs": [
    {
     "data": {
      "text/plain": [
       "Postcode  Borough      Neighbourhood \n",
       "M1B       Scarborough  Malvern           [Postcode, Borough, Neighbourhood]\n",
       "                       Rouge             [Postcode, Borough, Neighbourhood]\n",
       "M1C       Scarborough  Highland Creek    [Postcode, Borough, Neighbourhood]\n",
       "                       Port Union        [Postcode, Borough, Neighbourhood]\n",
       "                       Rouge Hill        [Postcode, Borough, Neighbourhood]\n",
       "M1E       Scarborough  Guildwood         [Postcode, Borough, Neighbourhood]\n",
       "                       Morningside       [Postcode, Borough, Neighbourhood]\n",
       "                       West Hill         [Postcode, Borough, Neighbourhood]\n",
       "M1G       Scarborough  Woburn            [Postcode, Borough, Neighbourhood]\n",
       "M1H       Scarborough  Cedarbrae         [Postcode, Borough, Neighbourhood]\n",
       "dtype: object"
      ]
     },
     "execution_count": 185,
     "metadata": {},
     "output_type": "execute_result"
    }
   ],
   "source": [
    "\n",
    "mod_df1.head(10)"
   ]
  },
  {
   "cell_type": "code",
   "execution_count": 173,
   "metadata": {},
   "outputs": [
    {
     "ename": "TypeError",
     "evalue": "'tuple' object is not callable",
     "output_type": "error",
     "traceback": [
      "\u001b[0;31m---------------------------------------------------------------------------\u001b[0m",
      "\u001b[0;31mTypeError\u001b[0m                                 Traceback (most recent call last)",
      "\u001b[0;32m<ipython-input-173-993f050b6031>\u001b[0m in \u001b[0;36m<module>\u001b[0;34m\u001b[0m\n\u001b[0;32m----> 1\u001b[0;31m \u001b[0mmod_df1\u001b[0m\u001b[0;34m.\u001b[0m\u001b[0mshape\u001b[0m\u001b[0;34m(\u001b[0m\u001b[0;34m)\u001b[0m\u001b[0;34m\u001b[0m\u001b[0;34m\u001b[0m\u001b[0m\n\u001b[0m",
      "\u001b[0;31mTypeError\u001b[0m: 'tuple' object is not callable"
     ]
    }
   ],
   "source": [
    "mod_df1.shape()"
   ]
  },
  {
   "cell_type": "code",
   "execution_count": null,
   "metadata": {},
   "outputs": [],
   "source": []
  }
 ],
 "metadata": {
  "kernelspec": {
   "display_name": "Python 3",
   "language": "python",
   "name": "python3"
  },
  "language_info": {
   "codemirror_mode": {
    "name": "ipython",
    "version": 3
   },
   "file_extension": ".py",
   "mimetype": "text/x-python",
   "name": "python",
   "nbconvert_exporter": "python",
   "pygments_lexer": "ipython3",
   "version": "3.8.5"
  }
 },
 "nbformat": 4,
 "nbformat_minor": 4
}
